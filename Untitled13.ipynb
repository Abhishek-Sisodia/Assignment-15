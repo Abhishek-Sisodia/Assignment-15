{
 "cells": [
  {
   "cell_type": "code",
   "execution_count": 1,
   "id": "52913a03-210f-488d-b1dd-86ff9ec26057",
   "metadata": {},
   "outputs": [],
   "source": [
    "#Q1. What is a database? Differentiate between SQL and NoSQL databases.\n",
    "#A database is a collection of structured data that is organized in a way that enables efficient storage, retrieval, and\n",
    "#manipulation of information. Databases are commonly used in software applications, websites, and other information systems to\n",
    "#store and manage large amounts of data.\n",
    "\n",
    "#SQL (Structured Query Language) and NoSQL (Not Only SQL) are two different types of databases that have different architectures,\n",
    "#data models, and query languages.\n",
    "\n",
    "#SQL databases are relational databases that store data in tables with rows and columns. They use a standardized query language\n",
    "#, SQL, to manipulate and retrieve data. SQL databases are ideal for structured data with well-defined relationships between \n",
    "#different data points. Some examples of SQL databases include MySQL, PostgreSQL, and Oracle.\n",
    "\n",
    "#NoSQL databases, on the other hand, are non-relational databases that store data in a more flexible way. They can handle \n",
    "#unstructured, semi-structured, and structured data, and they do not require a fixed schema or data model. NoSQL databases use\n",
    "#different data models, such as key-value, document, graph, or column-family. Examples of NoSQL databases include MongoDB, \n",
    "#Cassandra, and Neo4j.\n",
    "\n",
    "#The choice between SQL and NoSQL databases depends on the specific needs of the application or system. SQL databases are good \n",
    "#for handling structured data that follows a specific schema, while NoSQL databases are more flexible and scalable for handling\n",
    "#unstructured or semi-structured data. NoSQL databases are often preferred for web-scale applications and big data projects, \n",
    "#while SQL databases are commonly used in traditional enterprise applications."
   ]
  },
  {
   "cell_type": "code",
   "execution_count": 2,
   "id": "55b080a5-e759-4ca0-91ee-a930679a06f3",
   "metadata": {},
   "outputs": [],
   "source": [
    "#Q2. What is DDL? Explain why CREATE, DROP, ALTER, and TRUNCATE are used with an example.\n",
    "#DDL stands for Data Definition Language, which is a set of SQL commands that are used to define and manage the structure of \n",
    "#database objects such as tables, indexes, views, and constraints. DDL statements are used to create, modify, and delete database\n",
    "#objects, as well as to grant or revoke permissions on those objects.\n",
    "\n",
    "#Here are some examples of DDL statements and their uses:\n",
    "\n",
    "#CREATE: The CREATE statement is used to create new database objects, such as tables, views, indexes, and stored procedures. \n",
    "#For example, the following SQL statement creates a new table called \"users\" with three columns: \"id\", \"name\", and \"email\":"
   ]
  },
  {
   "cell_type": "code",
   "execution_count": 5,
   "id": "2f7edded-8887-487b-b4cb-4553da9186a0",
   "metadata": {},
   "outputs": [
    {
     "ename": "SyntaxError",
     "evalue": "invalid syntax (189027383.py, line 1)",
     "output_type": "error",
     "traceback": [
      "\u001b[0;36m  Cell \u001b[0;32mIn[5], line 1\u001b[0;36m\u001b[0m\n\u001b[0;31m    CREATE TABLE users (\u001b[0m\n\u001b[0m           ^\u001b[0m\n\u001b[0;31mSyntaxError\u001b[0m\u001b[0;31m:\u001b[0m invalid syntax\n"
     ]
    }
   ],
   "source": [
    "CREATE TABLE users (\n",
    "  id INT PRIMARY KEY,\n",
    "  name VARCHAR(50),\n",
    "  email VARCHAR(100)\n",
    ");"
   ]
  },
  {
   "cell_type": "code",
   "execution_count": 7,
   "id": "5930f45f-1c6d-4e8c-825a-b39d830ff452",
   "metadata": {},
   "outputs": [],
   "source": [
    "#DROP: The DROP statement is used to remove an existing database object. For example, the following SQL statement drops the \n",
    "#\"users\" table that was created in the previous example:"
   ]
  },
  {
   "cell_type": "code",
   "execution_count": 8,
   "id": "e6707f1a-9da5-4622-b337-522a70360ece",
   "metadata": {},
   "outputs": [
    {
     "ename": "SyntaxError",
     "evalue": "invalid syntax (3042721266.py, line 1)",
     "output_type": "error",
     "traceback": [
      "\u001b[0;36m  Cell \u001b[0;32mIn[8], line 1\u001b[0;36m\u001b[0m\n\u001b[0;31m    DROP TABLE users;\u001b[0m\n\u001b[0m         ^\u001b[0m\n\u001b[0;31mSyntaxError\u001b[0m\u001b[0;31m:\u001b[0m invalid syntax\n"
     ]
    }
   ],
   "source": [
    "DROP TABLE users;"
   ]
  },
  {
   "cell_type": "code",
   "execution_count": 9,
   "id": "4821effe-be3b-4b86-be14-bfe5667b371c",
   "metadata": {},
   "outputs": [],
   "source": [
    "#ALTER: The ALTER statement is used to modify an existing database object, such as a table or a view. For example, the following\n",
    "#SQL statement adds a new column called \"age\" to the \"users\" table:\n",
    "\n",
    "#ALTER TABLE users ADD COLUMN age INT;\n",
    "\n",
    "#TRUNCATE: The TRUNCATE statement is used to delete all rows from a table, but the table structure remains intact. For example,\n",
    "#the following SQL statement deletes all rows from the \"users\" table:"
   ]
  },
  {
   "cell_type": "code",
   "execution_count": 10,
   "id": "8cb8e2e8-2833-4c50-87d6-cb9bedec0829",
   "metadata": {},
   "outputs": [
    {
     "ename": "SyntaxError",
     "evalue": "invalid syntax (943780123.py, line 1)",
     "output_type": "error",
     "traceback": [
      "\u001b[0;36m  Cell \u001b[0;32mIn[10], line 1\u001b[0;36m\u001b[0m\n\u001b[0;31m    TRUNCATE TABLE users;\u001b[0m\n\u001b[0m             ^\u001b[0m\n\u001b[0;31mSyntaxError\u001b[0m\u001b[0;31m:\u001b[0m invalid syntax\n"
     ]
    }
   ],
   "source": [
    "TRUNCATE TABLE users;"
   ]
  },
  {
   "cell_type": "code",
   "execution_count": 11,
   "id": "398221df-de5d-462e-94ee-0156cc357813",
   "metadata": {},
   "outputs": [],
   "source": [
    "#Q3. What is DML? Explain INSERT, UPDATE, and DELETE with an example.\n",
    "\n",
    "#DML stands for Data Manipulation Language, which is a set of SQL commands used to manipulate and modify the data stored in a \n",
    "#database. DML statements are used to insert, update, delete, and retrieve data from a database. Here are some examples of DML\n",
    "#statements and their uses:\n",
    "\n",
    "#INSERT: The INSERT statement is used to add new rows to a table. For example, the following SQL statement inserts a new record\n",
    "#into a table named \"users\" with the values \"John Doe\" for the name column, \"johndoe@example.com\" for the email column, and 25 \n",
    "#for the age column:"
   ]
  },
  {
   "cell_type": "code",
   "execution_count": null,
   "id": "553c921f-4918-4390-86fa-462a6af187f6",
   "metadata": {},
   "outputs": [],
   "source": [
    "INSERT INTO users (name, email, age) VALUES ('John Doe', 'johndoe@example.com', 25);"
   ]
  },
  {
   "cell_type": "code",
   "execution_count": null,
   "id": "bc68b262-1b81-4053-beb0-6d0b924f827a",
   "metadata": {},
   "outputs": [],
   "source": [
    "#UPDATE: The UPDATE statement is used to modify existing data in a table. For example, the following SQL statement updates the \n",
    "#email of the user with the name \"John Doe\" to \"john.doe@example.com\":"
   ]
  },
  {
   "cell_type": "code",
   "execution_count": null,
   "id": "83667487-558a-4500-8c89-19a3cabead6a",
   "metadata": {},
   "outputs": [],
   "source": [
    "UPDATE users SET email = 'john.doe@example.com' WHERE name = 'John Doe';"
   ]
  },
  {
   "cell_type": "code",
   "execution_count": null,
   "id": "dfde3a1f-b53f-4d2a-9647-accbc7a3d4a3",
   "metadata": {},
   "outputs": [],
   "source": [
    "#DML stands for Data Manipulation Language, which is a set of SQL commands used to manipulate and modify the data stored in a \n",
    "#database. DML statements are used to insert, update, delete, and retrieve data from a database. Here are some examples of DML \n",
    "#statements and their uses:\n",
    "\n",
    "#INSERT: The INSERT statement is used to add new rows to a table. For example, the following SQL statement inserts a new record\n",
    "#into a table named \"users\" with the values \"John Doe\" for the name column, \"johndoe@example.com\" for the email column, and 25\n",
    "#for the age column: sql Copy code INSERT INTO users (name, email, age) VALUES ('John Doe', 'johndoe@example.com', 25); UPDATE:\n",
    "#The UPDATE statement is used to modify existing data in a table. For example, the following SQL statement updates the email of\n",
    "#the user with the name \"John Doe\" to \"john.doe@example.com\": sql Copy code UPDATE users SET email = 'john.doe@example.com' \n",
    "#WHERE name = 'John Doe'; DELETE: The DELETE statement is used to remove existing data from a table. For example, the following\n",
    "#SQL statement deletes the user with the name \"John Doe\" from the \"users\" table:"
   ]
  },
  {
   "cell_type": "code",
   "execution_count": null,
   "id": "95b9d6db-bebf-46d8-9633-7a3730719d16",
   "metadata": {},
   "outputs": [],
   "source": [
    "DELETE FROM users WHERE name = 'John Doe';"
   ]
  },
  {
   "cell_type": "code",
   "execution_count": null,
   "id": "5ed9e0ac-db48-4ce2-aa15-29101a88f47f",
   "metadata": {},
   "outputs": [],
   "source": [
    "#Q4. What is DQL? Explain SELECT with an example.\n",
    "#DQL stands for Data Query Language, which is a subset of SQL used to retrieve data from a database. DQL statements are used \n",
    "#to query the database and retrieve specific data based on specified criteria. The most commonly used DQL statement is SELECT.\n",
    "\n",
    "#SELECT is used to retrieve data from one or more tables in a database. It allows you to specify the columns to retrieve, the \n",
    "#table or tables to retrieve them from, and any conditions that the retrieved data must meet. Here's an example of a SELECT \n",
    "#statement:"
   ]
  },
  {
   "cell_type": "code",
   "execution_count": null,
   "id": "dfffc105-1c3d-462d-ad49-33533d24a203",
   "metadata": {},
   "outputs": [],
   "source": [
    "SELECT name, email FROM users WHERE age > 25;"
   ]
  },
  {
   "cell_type": "code",
   "execution_count": null,
   "id": "0adfbc32-9acf-430c-ba75-e767dafbc84e",
   "metadata": {},
   "outputs": [],
   "source": [
    "#Q5. Explain Primary Key and Foreign Key."
   ]
  },
  {
   "cell_type": "code",
   "execution_count": null,
   "id": "4d81f5a6-9c62-414b-842c-bdd94338a45b",
   "metadata": {},
   "outputs": [],
   "source": [
    "#A primary key is a column or set of columns in a table that uniquely identifies each row or record in that table. It ensures \n",
    "#that each row in the table is uniquely identifiable and is used to enforce data integrity constraints. A primary key column \n",
    "#cannot contain null values and must have a unique value for each row.\n",
    "\n",
    "#Here's an example of a table with a primary key:\n",
    "\n",
    "#sql"
   ]
  },
  {
   "cell_type": "code",
   "execution_count": null,
   "id": "bfe0d674-82e5-41fc-bd5b-7e35991fb28b",
   "metadata": {},
   "outputs": [],
   "source": [
    "CREATE TABLE students (\n",
    "    id INT PRIMARY KEY,\n",
    "    name VARCHAR(50),\n",
    "    email VARCHAR(100),\n",
    "    age INT\n",
    ");"
   ]
  },
  {
   "cell_type": "code",
   "execution_count": null,
   "id": "b021f798-c8ea-47c5-b6ce-1d11d79522e9",
   "metadata": {},
   "outputs": [],
   "source": [
    "#A foreign key is a column or set of columns in a table that refers to the primary key of another table. It establishes a link\n",
    "#between two tables, which allows data to be retrieved from multiple tables using a single query. A foreign key is used to \n",
    "#enforce referential integrity constraints, which ensure that the data in the foreign key column matches the data in the \n",
    "#primary key column of the other table.\n",
    "\n",
    "#Here's an example of a table with a foreign key:"
   ]
  },
  {
   "cell_type": "code",
   "execution_count": null,
   "id": "56a18363-3de9-4355-8cd0-5d970a8d5900",
   "metadata": {},
   "outputs": [],
   "source": [
    "CREATE TABLE courses (\n",
    "    id INT PRIMARY KEY,\n",
    "    name VARCHAR(50),\n",
    "    instructor_id INT,\n",
    "    FOREIGN KEY (instructor_id) REFERENCES instructors(id)\n",
    ");"
   ]
  },
  {
   "cell_type": "code",
   "execution_count": null,
   "id": "339c2cee-d6c7-4c98-a232-5e096967f99a",
   "metadata": {},
   "outputs": [],
   "source": [
    "#Q6. Write a python code to connect MySQL to python. Explain the cursor() and execute() method.\n",
    "#To connect MySQL to Python, we need to have the mysql-connector-python library installed. We can install it using pip, like this:"
   ]
  },
  {
   "cell_type": "code",
   "execution_count": null,
   "id": "fda2abf3-8856-4ec3-bcd5-526617d0cfa0",
   "metadata": {},
   "outputs": [],
   "source": [
    "pip install mysql-connector-python"
   ]
  },
  {
   "cell_type": "code",
   "execution_count": null,
   "id": "4c638b4e-5657-4c20-8897-bb2032a604f6",
   "metadata": {},
   "outputs": [],
   "source": [
    "import mysql.connector\n",
    "\n",
    "mydb = mysql.connector.connect(\n",
    "  host=\"localhost\",\n",
    "  user=\"username\",\n",
    "  password=\"password\",\n",
    "  database=\"database\"\n",
    ")\n",
    "\n",
    "mycursor = mydb.cursor()"
   ]
  },
  {
   "cell_type": "code",
   "execution_count": null,
   "id": "47311d73-96ec-432d-a4cc-6306bd660af6",
   "metadata": {},
   "outputs": [],
   "source": [
    "#In this code, we first import the mysql.connector module and use the connect() method to establish a connection to the MySQL database. We need to provide the database connection details, such as the host, username, password, and database name.\n",
    "\n",
    "#After establishing the connection, we create a cursor object using the cursor() method of the database connection object. The cursor object allows us to execute SQL statements on the database.\n",
    "\n",
    "#The execute() method is used to execute an SQL statement on the database using the cursor object. It takes an SQL statement as its parameter and returns the result of the statement, if any. Here's an example of how to use the execute() method to execute a SELECT statement:"
   ]
  },
  {
   "cell_type": "code",
   "execution_count": null,
   "id": "f882cc66-ad39-4a71-ae53-214b0197e8db",
   "metadata": {},
   "outputs": [],
   "source": [
    "sql = \"SELECT * FROM customers\"\n",
    "\n",
    "mycursor.execute(sql)\n",
    "\n",
    "myresult = mycursor.fetchall()\n",
    "\n",
    "for x in myresult:\n",
    "  print(x)"
   ]
  },
  {
   "cell_type": "code",
   "execution_count": null,
   "id": "4b86da85-b016-434a-9830-1dfd9b917687",
   "metadata": {},
   "outputs": [],
   "source": [
    "#Q7. Give the order of execution of SQL clauses in an SQL query.\n",
    "#The order of execution of SQL clauses in an SQL query can be summarized as follows:\n",
    "\n",
    "#FROM clause: The FROM clause specifies the table or tables from which the data will be retrieved. If multiple tables are used,\n",
    "#they may be joined using the JOIN clause.\n",
    "\n",
    "#WHERE clause: The WHERE clause filters the data based on a specified condition or set of conditions. It is used to retrieve \n",
    "#only the rows that meet the specified criteria.\n",
    "\n",
    "#GROUP BY clause: The GROUP BY clause is used to group the result set by one or more columns. It is often used in conjunction\n",
    "#with aggregate functions, such as COUNT, SUM, AVG, etc.\n",
    "\n",
    "#HAVING clause: The HAVING clause is used to filter the result set based on a specified condition or set of conditions. It is \n",
    "#similar to the WHERE clause, but it is applied after the data has been grouped by the GROUP BY clause.\n",
    "\n",
    "#SELECT clause: The SELECT clause specifies the columns that will be included in the result set. It can also be used to apply\n",
    "#functions or expressions to the data, such as CONCAT, DATE_FORMAT, etc.\n",
    "\n",
    "#ORDER BY clause: The ORDER BY clause is used to sort the result set based on one or more columns. It can sort the data in \n",
    "#ascending or descending order.\n",
    "\n",
    "##It's important to note that not all clauses are required in every query. The basic syntax of an SQL query is:"
   ]
  },
  {
   "cell_type": "code",
   "execution_count": null,
   "id": "1b7fa823-ae27-4fbc-91fd-656cef72c4d9",
   "metadata": {},
   "outputs": [],
   "source": [
    "SELECT column1, column2, ...\n",
    "FROM table_name\n",
    "WHERE condition;"
   ]
  },
  {
   "cell_type": "code",
   "execution_count": null,
   "id": "4c4e28fc-e30d-4ae9-a846-461372660bb7",
   "metadata": {},
   "outputs": [],
   "source": []
  }
 ],
 "metadata": {
  "kernelspec": {
   "display_name": "Python 3 (ipykernel)",
   "language": "python",
   "name": "python3"
  },
  "language_info": {
   "codemirror_mode": {
    "name": "ipython",
    "version": 3
   },
   "file_extension": ".py",
   "mimetype": "text/x-python",
   "name": "python",
   "nbconvert_exporter": "python",
   "pygments_lexer": "ipython3",
   "version": "3.10.8"
  }
 },
 "nbformat": 4,
 "nbformat_minor": 5
}
